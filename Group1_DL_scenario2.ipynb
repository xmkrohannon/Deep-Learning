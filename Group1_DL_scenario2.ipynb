{
 "cells": [
  {
   "cell_type": "code",
   "execution_count": 6,
   "metadata": {
    "colab": {
     "base_uri": "https://localhost:8080/",
     "height": 72,
     "resources": {
      "http://localhost:8080/nbextensions/google.colab/files.js": {
       "data": "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",
       "headers": [
        [
         "content-type",
         "application/javascript"
        ]
       ],
       "ok": true,
       "status": 200,
       "status_text": ""
      }
     }
    },
    "colab_type": "code",
    "id": "3ruXITLByvMw",
    "outputId": "b273f8e5-f175-4668-bdc6-8055cdd08cdb"
   },
   "outputs": [
    {
     "data": {
      "text/html": [
       "\n",
       "     <input type=\"file\" id=\"files-ff744f86-51b3-4383-b5b9-92a17fefad42\" name=\"files[]\" multiple disabled />\n",
       "     <output id=\"result-ff744f86-51b3-4383-b5b9-92a17fefad42\">\n",
       "      Upload widget is only available when the cell has been executed in the\n",
       "      current browser session. Please rerun this cell to enable.\n",
       "      </output>\n",
       "      <script src=\"/nbextensions/google.colab/files.js\"></script> "
      ],
      "text/plain": [
       "<IPython.core.display.HTML object>"
      ]
     },
     "metadata": {
      "tags": []
     },
     "output_type": "display_data"
    },
    {
     "name": "stdout",
     "output_type": "stream",
     "text": [
      "Saving Article_Data.txt to Article_Data.txt\n"
     ]
    }
   ],
   "source": [
    "from google.colab import files\n",
    "data=files.upload()"
   ]
  },
  {
   "cell_type": "code",
   "execution_count": 0,
   "metadata": {
    "colab": {},
    "colab_type": "code",
    "id": "Y1YvDu2U2t1V"
   },
   "outputs": [],
   "source": [
    "from keras.layers import Embedding, LSTM, Dense, Dropout, Bidirectional, Activation, GRU, SimpleRNN\n",
    "from keras.models import Sequential\n",
    "from keras.preprocessing.text import Tokenizer\n",
    "from keras.preprocessing.sequence import pad_sequences\n",
    "import string\n",
    "from sklearn.model_selection import train_test_split\n",
    "from keras import optimizers\n",
    "import matplotlib.pyplot as plt\n",
    "import numpy as np\n",
    "import pandas as pd\n",
    "from sklearn.preprocessing import MinMaxScaler\n",
    "from sklearn.metrics import mean_squared_error\n",
    "import math"
   ]
  },
  {
   "cell_type": "code",
   "execution_count": 0,
   "metadata": {
    "colab": {},
    "colab_type": "code",
    "id": "oBqu5wAJWmIn"
   },
   "outputs": [],
   "source": [
    "import pandas as pd\n",
    "file=pd.read_csv('Article_Data.txt',sep='\\t')\n",
    "data=file[['Article Abstract','Impact Factor']]\n",
    "data_filtered = data.dropna(how='any')\n",
    "data_filtered.columns=['abs','fac']\n",
    "data_filtered=data_filtered.drop_duplicates(subset=\"abs\")\n",
    "data_filtered['result'] = data_filtered['abs'].str.replace(r'(formula: see text)','')\n",
    "df = data_filtered[data_filtered['result'].apply(lambda x: len(x.split(' ')) > 25)]\n",
    "final=df[['result','fac']]\n",
    "final.columns=['abs','fac']"
   ]
  },
  {
   "cell_type": "code",
   "execution_count": 0,
   "metadata": {
    "colab": {},
    "colab_type": "code",
    "id": "sZ6-vJkBXwdQ"
   },
   "outputs": [],
   "source": [
    "X, y = (final['abs'].values, final['fac'].values)\n",
    "text = [word for word in X if word not in string.ascii_letters]\n",
    "tk = Tokenizer(lower = True)"
   ]
  },
  {
   "cell_type": "code",
   "execution_count": 0,
   "metadata": {
    "colab": {},
    "colab_type": "code",
    "id": "m9rXMgx4X1nP"
   },
   "outputs": [],
   "source": [
    "tk.fit_on_texts(X)\n",
    "X_seq = tk.texts_to_sequences(X)"
   ]
  },
  {
   "cell_type": "code",
   "execution_count": 6,
   "metadata": {
    "colab": {
     "base_uri": "https://localhost:8080/",
     "height": 34
    },
    "colab_type": "code",
    "id": "PpzdJUAH3ORN",
    "outputId": "14e77649-57c6-486c-beae-05b348d10ee8"
   },
   "outputs": [
    {
     "data": {
      "text/plain": [
       "(20077, 1500)"
      ]
     },
     "execution_count": 6,
     "metadata": {
      "tags": []
     },
     "output_type": "execute_result"
    }
   ],
   "source": [
    "X_pad = pad_sequences(X_seq, maxlen=1500, padding='post')\n",
    "X_pad.shape"
   ]
  },
  {
   "cell_type": "code",
   "execution_count": 0,
   "metadata": {
    "colab": {},
    "colab_type": "code",
    "id": "UQViEj-53XLS"
   },
   "outputs": [],
   "source": [
    "X_train, X_test, y_train, y_test = train_test_split(X_pad, y, test_size = 0.25, random_state = 1)"
   ]
  },
  {
   "cell_type": "code",
   "execution_count": 0,
   "metadata": {
    "colab": {},
    "colab_type": "code",
    "id": "D3gAtqdN1sW0"
   },
   "outputs": [],
   "source": [
    "vocabulary_size = len(tk.word_counts.keys())+1\n",
    "max_words = 1500\n",
    "embedding_size = 100\n",
    "model = Sequential()\n",
    "model.add(Embedding(vocabulary_size, embedding_size, input_length=max_words))\n",
    "model.add(LSTM(100))\n",
    "model.add(Dropout(0.3))\n",
    "model.add(Dense(1, activation='sigmoid'))\n",
    "opt_adam = optimizers.adam(lr=0.01)\n",
    "model.compile(loss='binary_crossentropy', optimizer=opt_adam, metrics=['accuracy'])"
   ]
  },
  {
   "cell_type": "code",
   "execution_count": 23,
   "metadata": {
    "colab": {
     "base_uri": "https://localhost:8080/",
     "height": 301
    },
    "colab_type": "code",
    "id": "Q5UiQvMZ_eaz",
    "outputId": "905acd55-3fbc-4768-92f4-49d7efa40ad8"
   },
   "outputs": [
    {
     "name": "stdout",
     "output_type": "stream",
     "text": [
      "Model: \"sequential_7\"\n",
      "_________________________________________________________________\n",
      "Layer (type)                 Output Shape              Param #   \n",
      "=================================================================\n",
      "embedding_7 (Embedding)      (None, 1500, 100)         8971600   \n",
      "_________________________________________________________________\n",
      "lstm_10 (LSTM)               (None, 100)               80400     \n",
      "_________________________________________________________________\n",
      "dropout_6 (Dropout)          (None, 100)               0         \n",
      "_________________________________________________________________\n",
      "dense_9 (Dense)              (None, 1)                 101       \n",
      "=================================================================\n",
      "Total params: 9,052,101\n",
      "Trainable params: 9,052,101\n",
      "Non-trainable params: 0\n",
      "_________________________________________________________________\n"
     ]
    }
   ],
   "source": [
    "model.summary()"
   ]
  },
  {
   "cell_type": "code",
   "execution_count": 24,
   "metadata": {
    "colab": {
     "base_uri": "https://localhost:8080/",
     "height": 178
    },
    "colab_type": "code",
    "id": "NiZKfvv5_2T8",
    "outputId": "96ef1afe-53b0-439b-f2c2-dc2fd0c91d26"
   },
   "outputs": [
    {
     "name": "stderr",
     "output_type": "stream",
     "text": [
      "/usr/local/lib/python3.6/dist-packages/tensorflow/python/framework/indexed_slices.py:434: UserWarning: Converting sparse IndexedSlices to a dense Tensor of unknown shape. This may consume a large amount of memory.\n",
      "  \"Converting sparse IndexedSlices to a dense Tensor of unknown shape. \"\n"
     ]
    },
    {
     "name": "stdout",
     "output_type": "stream",
     "text": [
      "Train on 15057 samples, validate on 5020 samples\n",
      "Epoch 1/2\n",
      "15057/15057 [==============================] - 498s 33ms/step - loss: 0.6327 - accuracy: 0.5301 - val_loss: 0.5915 - val_accuracy: 0.5382\n",
      "Epoch 2/2\n",
      "15057/15057 [==============================] - 496s 33ms/step - loss: 0.6061 - accuracy: 0.5392 - val_loss: 0.5902 - val_accuracy: 0.5382\n"
     ]
    },
    {
     "data": {
      "text/plain": [
       "<keras.callbacks.callbacks.History at 0x7f95774cb128>"
      ]
     },
     "execution_count": 24,
     "metadata": {
      "tags": []
     },
     "output_type": "execute_result"
    }
   ],
   "source": [
    "model.fit(X_train,y_train,validation_data=(X_test,y_test),batch_size=1000,epochs=2)"
   ]
  },
  {
   "cell_type": "code",
   "execution_count": 0,
   "metadata": {
    "colab": {},
    "colab_type": "code",
    "id": "YPpUKoG5jTRZ"
   },
   "outputs": [],
   "source": [
    "###Building model with abstracts having impact factor > 0"
   ]
  },
  {
   "cell_type": "code",
   "execution_count": 0,
   "metadata": {
    "colab": {},
    "colab_type": "code",
    "id": "CDimO7uoARSI"
   },
   "outputs": [],
   "source": [
    "final_new = final[final.fac > 0]"
   ]
  },
  {
   "cell_type": "code",
   "execution_count": 0,
   "metadata": {
    "colab": {},
    "colab_type": "code",
    "id": "PDlT1ZeZLtLN"
   },
   "outputs": [],
   "source": [
    "X, y = (final_new['abs'].values, final_new['fac'].values)\n",
    "text = [word for word in X if word not in string.ascii_letters]\n",
    "tk = Tokenizer(lower = True)"
   ]
  },
  {
   "cell_type": "code",
   "execution_count": 0,
   "metadata": {
    "colab": {},
    "colab_type": "code",
    "id": "HEMWA1GnLzSE"
   },
   "outputs": [],
   "source": [
    "tk.fit_on_texts(X)\n",
    "X_seq = tk.texts_to_sequences(X)"
   ]
  },
  {
   "cell_type": "code",
   "execution_count": 32,
   "metadata": {
    "colab": {
     "base_uri": "https://localhost:8080/",
     "height": 34
    },
    "colab_type": "code",
    "id": "jTu9tQVNL01s",
    "outputId": "c9ac7bac-8f79-4ed0-a41b-0d2646564a14"
   },
   "outputs": [
    {
     "data": {
      "text/plain": [
       "(12142, 1500)"
      ]
     },
     "execution_count": 32,
     "metadata": {
      "tags": []
     },
     "output_type": "execute_result"
    }
   ],
   "source": [
    "X_pad = pad_sequences(X_seq, maxlen=1500, padding='post')\n",
    "X_pad.shape"
   ]
  },
  {
   "cell_type": "code",
   "execution_count": 0,
   "metadata": {
    "colab": {},
    "colab_type": "code",
    "id": "welN-cHsL2bo"
   },
   "outputs": [],
   "source": [
    "X_train, X_test, y_train, y_test = train_test_split(X_pad, y, test_size = 0.25, random_state = 1)"
   ]
  },
  {
   "cell_type": "code",
   "execution_count": 0,
   "metadata": {
    "colab": {},
    "colab_type": "code",
    "id": "-8dM48ZSL6FB"
   },
   "outputs": [],
   "source": [
    "vocabulary_size = len(tk.word_counts.keys())+1\n",
    "max_words = 1500\n",
    "embedding_size = 100\n",
    "model = Sequential()\n",
    "model.add(Embedding(vocabulary_size, embedding_size, input_length=max_words))\n",
    "model.add(LSTM(100))\n",
    "model.add(Dropout(0.3))\n",
    "model.add(Dense(1, activation='sigmoid'))\n",
    "model.compile(loss='binary_crossentropy', optimizer='RMSprop', metrics=['accuracy'])"
   ]
  },
  {
   "cell_type": "code",
   "execution_count": 35,
   "metadata": {
    "colab": {
     "base_uri": "https://localhost:8080/",
     "height": 301
    },
    "colab_type": "code",
    "id": "pB4O4BspL-jT",
    "outputId": "b2f9a3a5-0e2a-47eb-eebf-f1440a4f485d"
   },
   "outputs": [
    {
     "name": "stdout",
     "output_type": "stream",
     "text": [
      "Model: \"sequential_8\"\n",
      "_________________________________________________________________\n",
      "Layer (type)                 Output Shape              Param #   \n",
      "=================================================================\n",
      "embedding_8 (Embedding)      (None, 1500, 100)         6900300   \n",
      "_________________________________________________________________\n",
      "lstm_11 (LSTM)               (None, 100)               80400     \n",
      "_________________________________________________________________\n",
      "dropout_7 (Dropout)          (None, 100)               0         \n",
      "_________________________________________________________________\n",
      "dense_10 (Dense)             (None, 1)                 101       \n",
      "=================================================================\n",
      "Total params: 6,980,801\n",
      "Trainable params: 6,980,801\n",
      "Non-trainable params: 0\n",
      "_________________________________________________________________\n"
     ]
    }
   ],
   "source": [
    "model.summary()"
   ]
  },
  {
   "cell_type": "code",
   "execution_count": 36,
   "metadata": {
    "colab": {
     "base_uri": "https://localhost:8080/",
     "height": 178
    },
    "colab_type": "code",
    "id": "1toLyJ5uMAbc",
    "outputId": "9b3abca6-ccc3-4278-d29f-5ca550990e20"
   },
   "outputs": [
    {
     "name": "stderr",
     "output_type": "stream",
     "text": [
      "/usr/local/lib/python3.6/dist-packages/tensorflow/python/framework/indexed_slices.py:434: UserWarning: Converting sparse IndexedSlices to a dense Tensor of unknown shape. This may consume a large amount of memory.\n",
      "  \"Converting sparse IndexedSlices to a dense Tensor of unknown shape. \"\n"
     ]
    },
    {
     "name": "stdout",
     "output_type": "stream",
     "text": [
      "Train on 9106 samples, validate on 3036 samples\n",
      "Epoch 1/2\n",
      "9106/9106 [==============================] - 312s 34ms/step - loss: -1.4239 - accuracy: 0.8489 - val_loss: -3.3860 - val_accuracy: 0.8906\n",
      "Epoch 2/2\n",
      "9106/9106 [==============================] - 299s 33ms/step - loss: -4.3912 - accuracy: 0.8914 - val_loss: -5.7084 - val_accuracy: 0.8906\n"
     ]
    },
    {
     "data": {
      "text/plain": [
       "<keras.callbacks.callbacks.History at 0x7f9581f26940>"
      ]
     },
     "execution_count": 36,
     "metadata": {
      "tags": []
     },
     "output_type": "execute_result"
    }
   ],
   "source": [
    "model.fit(X_train,y_train,validation_data=(X_test,y_test),batch_size=1000,epochs=2)"
   ]
  },
  {
   "cell_type": "code",
   "execution_count": 38,
   "metadata": {
    "colab": {
     "base_uri": "https://localhost:8080/",
     "height": 34
    },
    "colab_type": "code",
    "id": "qxg5wk_5MBpU",
    "outputId": "88fc1119-c13c-407a-d22b-924083088820"
   },
   "outputs": [
    {
     "name": "stdout",
     "output_type": "stream",
     "text": [
      "dict_keys(['val_loss', 'val_accuracy', 'loss', 'accuracy'])\n"
     ]
    }
   ],
   "source": [
    "print(model.history.history.keys())"
   ]
  },
  {
   "cell_type": "code",
   "execution_count": 42,
   "metadata": {
    "colab": {
     "base_uri": "https://localhost:8080/",
     "height": 294
    },
    "colab_type": "code",
    "id": "gxtB3GsxObRt",
    "outputId": "c34fe121-f507-417f-8e5b-63c1b8841a3b"
   },
   "outputs": [
    {
     "data": {
      "image/png": "[encoded data removed]",
      "text/plain": [
       "<Figure size 432x288 with 1 Axes>"
      ]
     },
     "metadata": {
      "needs_background": "light",
      "tags": []
     },
     "output_type": "display_data"
    }
   ],
   "source": [
    "plt.plot(model.history.history['accuracy'])\n",
    "plt.plot(model.history.history['val_accuracy'])\n",
    "plt.title('model accuracy')\n",
    "plt.ylabel('accuracy')\n",
    "plt.xlabel('epoch')\n",
    "plt.legend(['train', 'test'], loc='upper left')\n",
    "plt.show()"
   ]
  },
  {
   "cell_type": "code",
   "execution_count": 43,
   "metadata": {
    "colab": {
     "base_uri": "https://localhost:8080/",
     "height": 294
    },
    "colab_type": "code",
    "id": "aapnNRzAOg7n",
    "outputId": "6c6c7749-4fbe-4cd8-a447-0dcdbf796471"
   },
   "outputs": [
    {
     "data": {
      "image/png": "[encoded data removed]",
      "text/plain": [
       "<Figure size 432x288 with 1 Axes>"
      ]
     },
     "metadata": {
      "needs_background": "light",
      "tags": []
     },
     "output_type": "display_data"
    }
   ],
   "source": [
    "plt.plot(model.history.history['loss'])\n",
    "plt.plot(model.history.history['val_loss'])\n",
    "plt.title('model loss')\n",
    "plt.ylabel('loss')\n",
    "plt.xlabel('epoch')\n",
    "plt.legend(['train', 'test'], loc='upper left')\n",
    "plt.show()"
   ]
  },
  {
   "cell_type": "code",
   "execution_count": 0,
   "metadata": {
    "colab": {},
    "colab_type": "code",
    "id": "Nkc7otGLOvUH"
   },
   "outputs": [],
   "source": [
    "trainPredict = model.predict(X_train)\n",
    "testPredict = model.predict(X_test)"
   ]
  },
  {
   "cell_type": "code",
   "execution_count": 60,
   "metadata": {
    "colab": {
     "base_uri": "https://localhost:8080/",
     "height": 178
    },
    "colab_type": "code",
    "id": "BclhKt7uTVdv",
    "outputId": "6635bee4-fed4-4932-d2f7-dddd3aa837e1"
   },
   "outputs": [
    {
     "name": "stderr",
     "output_type": "stream",
     "text": [
      "/usr/local/lib/python3.6/dist-packages/tensorflow/python/framework/indexed_slices.py:434: UserWarning: Converting sparse IndexedSlices to a dense Tensor of unknown shape. This may consume a large amount of memory.\n",
      "  \"Converting sparse IndexedSlices to a dense Tensor of unknown shape. \"\n"
     ]
    },
    {
     "name": "stdout",
     "output_type": "stream",
     "text": [
      "Train on 9106 samples, validate on 3036 samples\n",
      "Epoch 1/2\n",
      "9106/9106 [==============================] - 304s 33ms/step - loss: -0.1844 - accuracy: 0.8152 - val_loss: -2.0934 - val_accuracy: 0.8906\n",
      "Epoch 2/2\n",
      "9106/9106 [==============================] - 301s 33ms/step - loss: -2.4291 - accuracy: 0.8914 - val_loss: -2.6227 - val_accuracy: 0.8906\n"
     ]
    },
    {
     "data": {
      "text/plain": [
       "<keras.callbacks.callbacks.History at 0x7f9580ed24a8>"
      ]
     },
     "execution_count": 60,
     "metadata": {
      "tags": []
     },
     "output_type": "execute_result"
    }
   ],
   "source": [
    "model1 = Sequential()\n",
    "model1.add(Embedding(vocabulary_size, embedding_size, input_length=max_words))\n",
    "model1.add(GRU(100))\n",
    "model1.add(Dropout(0.3))\n",
    "model1.add(Dense(1, activation='sigmoid'))\n",
    "model1.compile(loss='binary_crossentropy', optimizer='RMSprop', metrics=['accuracy'])\n",
    "model1.fit(X_train,y_train,validation_data=(X_test,y_test),batch_size=1000,epochs=2)"
   ]
  },
  {
   "cell_type": "code",
   "execution_count": 61,
   "metadata": {
    "colab": {
     "base_uri": "https://localhost:8080/",
     "height": 294
    },
    "colab_type": "code",
    "id": "FxY7P2_RT0MT",
    "outputId": "217c9c48-9aa5-41e0-bc56-f080f82b567a"
   },
   "outputs": [
    {
     "data": {
      "image/png": "[encoded data removed]",
      "text/plain": [
       "<Figure size 432x288 with 1 Axes>"
      ]
     },
     "metadata": {
      "needs_background": "light",
      "tags": []
     },
     "output_type": "display_data"
    }
   ],
   "source": [
    "plt.plot(model1.history.history['accuracy'])\n",
    "plt.plot(model1.history.history['val_accuracy'])\n",
    "plt.title('model accuracy')\n",
    "plt.ylabel('accuracy')\n",
    "plt.xlabel('epoch')\n",
    "plt.legend(['train', 'test'], loc='upper left')\n",
    "plt.show()"
   ]
  },
  {
   "cell_type": "code",
   "execution_count": 62,
   "metadata": {
    "colab": {
     "base_uri": "https://localhost:8080/",
     "height": 294
    },
    "colab_type": "code",
    "id": "0TLq3AlPWPQU",
    "outputId": "98cab1a4-18d1-4e37-d953-155b50c6c9c4"
   },
   "outputs": [
    {
     "data": {
      "image/png": "[encoded data removed]",
      "text/plain": [
       "<Figure size 432x288 with 1 Axes>"
      ]
     },
     "metadata": {
      "needs_background": "light",
      "tags": []
     },
     "output_type": "display_data"
    }
   ],
   "source": [
    "plt.plot(model1.history.history['loss'])\n",
    "plt.plot(model1.history.history['val_loss'])\n",
    "plt.title('model loss')\n",
    "plt.ylabel('loss')\n",
    "plt.xlabel('epoch')\n",
    "plt.legend(['train', 'test'], loc='upper left')\n",
    "plt.show()"
   ]
  },
  {
   "cell_type": "code",
   "execution_count": 0,
   "metadata": {
    "colab": {},
    "colab_type": "code",
    "id": "_Mh2X6lYWRT3"
   },
   "outputs": [],
   "source": [
    "trainPredict1 = model1.predict(X_train)\n",
    "testPredict1 = model1.predict(X_test)"
   ]
  },
  {
   "cell_type": "code",
   "execution_count": 66,
   "metadata": {
    "colab": {
     "base_uri": "https://localhost:8080/",
     "height": 178
    },
    "colab_type": "code",
    "id": "1AuFWRFuWSo7",
    "outputId": "bb3059b8-0a2b-4752-8a23-1ed68bfae792"
   },
   "outputs": [
    {
     "name": "stderr",
     "output_type": "stream",
     "text": [
      "/usr/local/lib/python3.6/dist-packages/tensorflow/python/framework/indexed_slices.py:434: UserWarning: Converting sparse IndexedSlices to a dense Tensor of unknown shape. This may consume a large amount of memory.\n",
      "  \"Converting sparse IndexedSlices to a dense Tensor of unknown shape. \"\n"
     ]
    },
    {
     "name": "stdout",
     "output_type": "stream",
     "text": [
      "Train on 9106 samples, validate on 3036 samples\n",
      "Epoch 1/2\n",
      "9106/9106 [==============================] - 78s 9ms/step - loss: -0.3022 - accuracy: 0.8248 - val_loss: -1.1373 - val_accuracy: 0.8847\n",
      "Epoch 2/2\n",
      "9106/9106 [==============================] - 76s 8ms/step - loss: -1.4728 - accuracy: 0.8862 - val_loss: -1.7788 - val_accuracy: 0.8834\n"
     ]
    },
    {
     "data": {
      "text/plain": [
       "<keras.callbacks.callbacks.History at 0x7f957652d550>"
      ]
     },
     "execution_count": 66,
     "metadata": {
      "tags": []
     },
     "output_type": "execute_result"
    }
   ],
   "source": [
    "model2 = Sequential()\n",
    "model2.add(Embedding(vocabulary_size, embedding_size, input_length=max_words))\n",
    "model2.add(SimpleRNN(100))\n",
    "model2.add(Dropout(0.3))\n",
    "model2.add(Dense(1, activation='sigmoid'))\n",
    "model2.compile(loss='binary_crossentropy', optimizer='RMSprop', metrics=['accuracy'])\n",
    "model2.fit(X_train,y_train,validation_data=(X_test,y_test),batch_size=1000,epochs=2)"
   ]
  },
  {
   "cell_type": "code",
   "execution_count": 75,
   "metadata": {
    "colab": {
     "base_uri": "https://localhost:8080/",
     "height": 294
    },
    "colab_type": "code",
    "id": "yLz7j-LKZaAC",
    "outputId": "1085252c-7d1d-4521-e579-0c416cb8bc6e"
   },
   "outputs": [
    {
     "data": {
      "image/png": "[encoded data removed]",
      "text/plain": [
       "<Figure size 432x288 with 1 Axes>"
      ]
     },
     "metadata": {
      "needs_background": "light",
      "tags": []
     },
     "output_type": "display_data"
    }
   ],
   "source": [
    "plt.plot(model2.history.history['accuracy'])\n",
    "plt.plot(model2.history.history['val_accuracy'])\n",
    "plt.title('model accuracy')\n",
    "plt.ylabel('accuracy')\n",
    "plt.xlabel('epoch')\n",
    "plt.legend(['train', 'test'], loc='upper left')\n",
    "plt.show()"
   ]
  },
  {
   "cell_type": "code",
   "execution_count": 76,
   "metadata": {
    "colab": {
     "base_uri": "https://localhost:8080/",
     "height": 294
    },
    "colab_type": "code",
    "id": "235VIBx8ZeGf",
    "outputId": "022843f2-b75a-4b67-a2ec-70a51d1d722c"
   },
   "outputs": [
    {
     "data": {
      "image/png": "[encoded data removed]",
      "text/plain": [
       "<Figure size 432x288 with 1 Axes>"
      ]
     },
     "metadata": {
      "needs_background": "light",
      "tags": []
     },
     "output_type": "display_data"
    }
   ],
   "source": [
    "plt.plot(model2.history.history['loss'])\n",
    "plt.plot(model2.history.history['val_loss'])\n",
    "plt.title('model loss')\n",
    "plt.ylabel('loss')\n",
    "plt.xlabel('epoch')\n",
    "plt.legend(['train', 'test'], loc='upper left')\n",
    "plt.show()"
   ]
  },
  {
   "cell_type": "code",
   "execution_count": 0,
   "metadata": {
    "colab": {},
    "colab_type": "code",
    "id": "exCabbK4W1F0"
   },
   "outputs": [],
   "source": [
    "df_50 = data_filtered[data_filtered['result'].apply(lambda x: len(x.split(' ')) > 50)]\n",
    "final_50=df_50[['result','fac']]\n",
    "final_50.columns=['abs','fac']\n",
    "final_new_50 = final_50[final_50.fac > 0]\n",
    "X, y = (final_new_50['abs'].values, final_new_50['fac'].values)\n",
    "text = [word for word in X if word not in string.ascii_letters]\n",
    "tk = Tokenizer(lower = True)\n",
    "tk.fit_on_texts(X)\n",
    "X_seq = tk.texts_to_sequences(X)\n",
    "X_pad = pad_sequences(X_seq, maxlen=1500, padding='post')\n",
    "X_pad.shape\n",
    "X_train, X_test, y_train, y_test = train_test_split(X_pad, y, test_size = 0.25, random_state = 1)\n",
    "vocabulary_size = len(tk.word_counts.keys())+1\n",
    "max_words = 1500\n",
    "embedding_size = 100"
   ]
  },
  {
   "cell_type": "code",
   "execution_count": 74,
   "metadata": {
    "colab": {
     "base_uri": "https://localhost:8080/",
     "height": 178
    },
    "colab_type": "code",
    "id": "kAWckt5rYiwE",
    "outputId": "afb07b3a-3f43-4ad0-a07f-808764b6c829"
   },
   "outputs": [
    {
     "name": "stderr",
     "output_type": "stream",
     "text": [
      "/usr/local/lib/python3.6/dist-packages/tensorflow/python/framework/indexed_slices.py:434: UserWarning: Converting sparse IndexedSlices to a dense Tensor of unknown shape. This may consume a large amount of memory.\n",
      "  \"Converting sparse IndexedSlices to a dense Tensor of unknown shape. \"\n"
     ]
    },
    {
     "name": "stdout",
     "output_type": "stream",
     "text": [
      "Train on 9018 samples, validate on 3007 samples\n",
      "Epoch 1/2\n",
      "9018/9018 [==============================] - 289s 32ms/step - loss: -0.5240 - accuracy: 0.8556 - val_loss: -1.5430 - val_accuracy: 0.8926\n",
      "Epoch 2/2\n",
      "9018/9018 [==============================] - 298s 33ms/step - loss: -1.8478 - accuracy: 0.8899 - val_loss: -2.0947 - val_accuracy: 0.8926\n"
     ]
    },
    {
     "data": {
      "text/plain": [
       "<keras.callbacks.callbacks.History at 0x7f95821ee278>"
      ]
     },
     "execution_count": 74,
     "metadata": {
      "tags": []
     },
     "output_type": "execute_result"
    }
   ],
   "source": [
    "model3 = Sequential()\n",
    "model3.add(Embedding(vocabulary_size, embedding_size, input_length=max_words))\n",
    "model3.add(LSTM(100))\n",
    "model3.add(Dropout(0.3))\n",
    "model3.add(Dense(1, activation='sigmoid'))\n",
    "model3.compile(loss='binary_crossentropy', optimizer='RMSprop', metrics=['accuracy'])\n",
    "model3.fit(X_train,y_train,validation_data=(X_test,y_test),batch_size=1000,epochs=2)"
   ]
  },
  {
   "cell_type": "code",
   "execution_count": 0,
   "metadata": {
    "colab": {},
    "colab_type": "code",
    "id": "82AJA--LbgM6"
   },
   "outputs": [],
   "source": [
    "trainPredict3 = model3.predict(X_train)\n",
    "testPredict3 = model3.predict(X_test)"
   ]
  },
  {
   "cell_type": "code",
   "execution_count": 78,
   "metadata": {
    "colab": {
     "base_uri": "https://localhost:8080/",
     "height": 294
    },
    "colab_type": "code",
    "id": "1XIs2ABBbhCI",
    "outputId": "a568f9e8-aff8-4120-b383-643c3193cec8"
   },
   "outputs": [
    {
     "data": {
      "image/png": "[encoded data removed]",
      "text/plain": [
       "<Figure size 432x288 with 1 Axes>"
      ]
     },
     "metadata": {
      "needs_background": "light",
      "tags": []
     },
     "output_type": "display_data"
    }
   ],
   "source": [
    "plt.plot(model3.history.history['accuracy'])\n",
    "plt.plot(model3.history.history['val_accuracy'])\n",
    "plt.title('model accuracy')\n",
    "plt.ylabel('accuracy')\n",
    "plt.xlabel('epoch')\n",
    "plt.legend(['train', 'test'], loc='upper left')\n",
    "plt.show()"
   ]
  },
  {
   "cell_type": "code",
   "execution_count": 79,
   "metadata": {
    "colab": {
     "base_uri": "https://localhost:8080/",
     "height": 294
    },
    "colab_type": "code",
    "id": "3rzWxgNybi9u",
    "outputId": "85e19725-815d-4ba9-95ad-f942b9dc09b5"
   },
   "outputs": [
    {
     "data": {
      "image/png": "[encoded data removed]",
      "text/plain": [
       "<Figure size 432x288 with 1 Axes>"
      ]
     },
     "metadata": {
      "needs_background": "light",
      "tags": []
     },
     "output_type": "display_data"
    }
   ],
   "source": [
    "plt.plot(model3.history.history['loss'])\n",
    "plt.plot(model3.history.history['val_loss'])\n",
    "plt.title('model loss')\n",
    "plt.ylabel('loss')\n",
    "plt.xlabel('epoch')\n",
    "plt.legend(['train', 'test'], loc='upper left')\n",
    "plt.show()"
   ]
  },
  {
   "cell_type": "code",
   "execution_count": 77,
   "metadata": {
    "colab": {
     "base_uri": "https://localhost:8080/",
     "height": 178
    },
    "colab_type": "code",
    "id": "vXCdolGAY8cP",
    "outputId": "5c4322ba-c9b9-4291-a69a-50399e36ab4a"
   },
   "outputs": [
    {
     "name": "stderr",
     "output_type": "stream",
     "text": [
      "/usr/local/lib/python3.6/dist-packages/tensorflow/python/framework/indexed_slices.py:434: UserWarning: Converting sparse IndexedSlices to a dense Tensor of unknown shape. This may consume a large amount of memory.\n",
      "  \"Converting sparse IndexedSlices to a dense Tensor of unknown shape. \"\n"
     ]
    },
    {
     "name": "stdout",
     "output_type": "stream",
     "text": [
      "Train on 9018 samples, validate on 3007 samples\n",
      "Epoch 1/2\n",
      "9018/9018 [==============================] - 295s 33ms/step - loss: -0.1202 - accuracy: 0.8156 - val_loss: -2.0487 - val_accuracy: 0.8926\n",
      "Epoch 2/2\n",
      "9018/9018 [==============================] - 288s 32ms/step - loss: -2.3851 - accuracy: 0.8899 - val_loss: -2.5436 - val_accuracy: 0.8926\n"
     ]
    },
    {
     "data": {
      "text/plain": [
       "<keras.callbacks.callbacks.History at 0x7f957623af60>"
      ]
     },
     "execution_count": 77,
     "metadata": {
      "tags": []
     },
     "output_type": "execute_result"
    }
   ],
   "source": [
    "model4 = Sequential()\n",
    "model4.add(Embedding(vocabulary_size, embedding_size, input_length=max_words))\n",
    "model4.add(GRU(100))\n",
    "model4.add(Dropout(0.3))\n",
    "model4.add(Dense(1, activation='sigmoid'))\n",
    "model4.compile(loss='binary_crossentropy', optimizer='RMSprop', metrics=['accuracy'])\n",
    "model4.fit(X_train,y_train,validation_data=(X_test,y_test),batch_size=1000,epochs=2)"
   ]
  },
  {
   "cell_type": "code",
   "execution_count": 80,
   "metadata": {
    "colab": {
     "base_uri": "https://localhost:8080/",
     "height": 294
    },
    "colab_type": "code",
    "id": "Li1QSuk4bbVI",
    "outputId": "ab07f286-ba64-4711-cd22-5aa0260c5bdc"
   },
   "outputs": [
    {
     "data": {
      "image/png": "[encoded data removed]",
      "text/plain": [
       "<Figure size 432x288 with 1 Axes>"
      ]
     },
     "metadata": {
      "needs_background": "light",
      "tags": []
     },
     "output_type": "display_data"
    }
   ],
   "source": [
    "plt.plot(model4.history.history['accuracy'])\n",
    "plt.plot(model4.history.history['val_accuracy'])\n",
    "plt.title('model accuracy')\n",
    "plt.ylabel('accuracy')\n",
    "plt.xlabel('epoch')\n",
    "plt.legend(['train', 'test'], loc='upper left')\n",
    "plt.show()"
   ]
  },
  {
   "cell_type": "code",
   "execution_count": 81,
   "metadata": {
    "colab": {
     "base_uri": "https://localhost:8080/",
     "height": 294
    },
    "colab_type": "code",
    "id": "BEieLbgYbmj6",
    "outputId": "aee28376-cbc5-4adc-d42e-08e66a724a4a"
   },
   "outputs": [
    {
     "data": {
      "image/png": "[encoded data removed]",
      "text/plain": [
       "<Figure size 432x288 with 1 Axes>"
      ]
     },
     "metadata": {
      "needs_background": "light",
      "tags": []
     },
     "output_type": "display_data"
    }
   ],
   "source": [
    "plt.plot(model4.history.history['loss'])\n",
    "plt.plot(model4.history.history['val_loss'])\n",
    "plt.title('model loss')\n",
    "plt.ylabel('loss')\n",
    "plt.xlabel('epoch')\n",
    "plt.legend(['train', 'test'], loc='upper left')\n",
    "plt.show()"
   ]
  },
  {
   "cell_type": "code",
   "execution_count": 0,
   "metadata": {
    "colab": {},
    "colab_type": "code",
    "id": "r1pZlGf5boDK"
   },
   "outputs": [],
   "source": [
    "trainPredict4 = model4.predict(X_train)\n",
    "testPredict4 = model4.predict(X_test)"
   ]
  },
  {
   "cell_type": "code",
   "execution_count": 82,
   "metadata": {
    "colab": {
     "base_uri": "https://localhost:8080/",
     "height": 178
    },
    "colab_type": "code",
    "id": "sGIzYrP8bpul",
    "outputId": "c236dc6d-83f8-42cf-ed47-cb261b839acb"
   },
   "outputs": [
    {
     "name": "stderr",
     "output_type": "stream",
     "text": [
      "/usr/local/lib/python3.6/dist-packages/tensorflow/python/framework/indexed_slices.py:434: UserWarning: Converting sparse IndexedSlices to a dense Tensor of unknown shape. This may consume a large amount of memory.\n",
      "  \"Converting sparse IndexedSlices to a dense Tensor of unknown shape. \"\n"
     ]
    },
    {
     "name": "stdout",
     "output_type": "stream",
     "text": [
      "Train on 9018 samples, validate on 3007 samples\n",
      "Epoch 1/2\n",
      "9018/9018 [==============================] - 78s 9ms/step - loss: -0.4994 - accuracy: 0.8883 - val_loss: -1.1266 - val_accuracy: 0.8903\n",
      "Epoch 2/2\n",
      "9018/9018 [==============================] - 76s 8ms/step - loss: -1.4437 - accuracy: 0.8877 - val_loss: -1.7076 - val_accuracy: 0.8886\n"
     ]
    },
    {
     "data": {
      "text/plain": [
       "<keras.callbacks.callbacks.History at 0x7f9575a70908>"
      ]
     },
     "execution_count": 82,
     "metadata": {
      "tags": []
     },
     "output_type": "execute_result"
    }
   ],
   "source": [
    "model5 = Sequential()\n",
    "model5.add(Embedding(vocabulary_size, embedding_size, input_length=max_words))\n",
    "model5.add(SimpleRNN(100))\n",
    "model5.add(Dropout(0.3))\n",
    "model5.add(Dense(1, activation='sigmoid'))\n",
    "model5.compile(loss='binary_crossentropy', optimizer='RMSprop', metrics=['accuracy'])\n",
    "model5.fit(X_train,y_train,validation_data=(X_test,y_test),batch_size=1000,epochs=2)"
   ]
  },
  {
   "cell_type": "code",
   "execution_count": 83,
   "metadata": {
    "colab": {
     "base_uri": "https://localhost:8080/",
     "height": 294
    },
    "colab_type": "code",
    "id": "lbsvz9qVbs94",
    "outputId": "5f265e02-2fef-4de5-ec63-dd913409e799"
   },
   "outputs": [
    {
     "data": {
      "image/png": "[encoded data removed]",
      "text/plain": [
       "<Figure size 432x288 with 1 Axes>"
      ]
     },
     "metadata": {
      "needs_background": "light",
      "tags": []
     },
     "output_type": "display_data"
    }
   ],
   "source": [
    "plt.plot(model5.history.history['accuracy'])\n",
    "plt.plot(model5.history.history['val_accuracy'])\n",
    "plt.title('model accuracy')\n",
    "plt.ylabel('accuracy')\n",
    "plt.xlabel('epoch')\n",
    "plt.legend(['train', 'test'], loc='upper left')\n",
    "plt.show()"
   ]
  },
  {
   "cell_type": "code",
   "execution_count": 84,
   "metadata": {
    "colab": {
     "base_uri": "https://localhost:8080/",
     "height": 294
    },
    "colab_type": "code",
    "id": "wb3pTBRfbuVj",
    "outputId": "16429a9b-1869-496b-9149-11fd8b7a7993"
   },
   "outputs": [
    {
     "data": {
      "image/png": "[encoded data removed]",
      "text/plain": [
       "<Figure size 432x288 with 1 Axes>"
      ]
     },
     "metadata": {
      "needs_background": "light",
      "tags": []
     },
     "output_type": "display_data"
    }
   ],
   "source": [
    "plt.plot(model5.history.history['loss'])\n",
    "plt.plot(model5.history.history['val_loss'])\n",
    "plt.title('model loss')\n",
    "plt.ylabel('loss')\n",
    "plt.xlabel('epoch')\n",
    "plt.legend(['train', 'test'], loc='upper left')\n",
    "plt.show()"
   ]
  },
  {
   "cell_type": "code",
   "execution_count": 0,
   "metadata": {
    "colab": {},
    "colab_type": "code",
    "id": "lc3t-M_Obv05"
   },
   "outputs": [],
   "source": [
    "trainPredict5 = model5.predict(X_train)\n",
    "testPredict5 = model5.predict(X_test)"
   ]
  },
  {
   "cell_type": "code",
   "execution_count": 0,
   "metadata": {
    "colab": {},
    "colab_type": "code",
    "id": "yZDUESQwel0B"
   },
   "outputs": [],
   "source": [
    "file=pd.read_csv('Article_Data.txt',sep='\\t')\n",
    "data=file[['Article Abstract','Impact Factor']]\n",
    "data_filtered = data.dropna(how='any')\n",
    "data_filtered.columns=['abs','fac']\n",
    "data_filtered=data_filtered.drop_duplicates(subset=\"abs\")\n",
    "data_filtered['result'] = data_filtered['abs'].str.replace(r'(formula: see text)','')\n",
    "df = data_filtered[data_filtered['result'].apply(lambda x: len(x.split(' ')) > 25)]\n",
    "final=df[['result','fac']]\n",
    "final.columns=['abs','fac']\n",
    "final_new = final[final.fac > 0]\n",
    "X, y = (final_new['abs'].values, final_new['fac'].values)\n",
    "text = [word for word in X if word not in string.ascii_letters]\n",
    "tk = Tokenizer(lower = True)\n",
    "tk.fit_on_texts(X)\n",
    "X_seq = tk.texts_to_sequences(X)\n",
    "X_pad = pad_sequences(X_seq, maxlen=1500, padding='post')\n",
    "X_pad.shape\n",
    "X_train, X_test, y_train, y_test = train_test_split(X_pad, y, test_size = 0.25, random_state = 1)\n",
    "vocabulary_size = len(tk.word_counts.keys())+1"
   ]
  },
  {
   "cell_type": "code",
   "execution_count": 90,
   "metadata": {
    "colab": {
     "base_uri": "https://localhost:8080/",
     "height": 783
    },
    "colab_type": "code",
    "id": "nbn1Xi4kh3LG",
    "outputId": "57d93e5c-1660-4728-ded8-a95e2e2c43bd"
   },
   "outputs": [
    {
     "name": "stderr",
     "output_type": "stream",
     "text": [
      "/usr/local/lib/python3.6/dist-packages/tensorflow/python/framework/indexed_slices.py:434: UserWarning: Converting sparse IndexedSlices to a dense Tensor of unknown shape. This may consume a large amount of memory.\n",
      "  \"Converting sparse IndexedSlices to a dense Tensor of unknown shape. \"\n"
     ]
    },
    {
     "name": "stdout",
     "output_type": "stream",
     "text": [
      "Train on 9106 samples, validate on 3036 samples\n",
      "Epoch 1/20\n",
      "9106/9106 [==============================] - 288s 32ms/step - loss: -0.5763 - accuracy: 0.8282 - val_loss: -1.7937 - val_accuracy: 0.8906\n",
      "Epoch 2/20\n",
      "9106/9106 [==============================] - 291s 32ms/step - loss: -2.1212 - accuracy: 0.8914 - val_loss: -2.3428 - val_accuracy: 0.8906\n",
      "Epoch 3/20\n",
      "9106/9106 [==============================] - 290s 32ms/step - loss: -2.5736 - accuracy: 0.8914 - val_loss: -2.7371 - val_accuracy: 0.8906\n",
      "Epoch 4/20\n",
      "9106/9106 [==============================] - 289s 32ms/step - loss: -2.9030 - accuracy: 0.8914 - val_loss: -3.0063 - val_accuracy: 0.8906\n",
      "Epoch 5/20\n",
      "9106/9106 [==============================] - 290s 32ms/step - loss: -3.1711 - accuracy: 0.8914 - val_loss: -3.2195 - val_accuracy: 0.8906\n",
      "Epoch 6/20\n",
      "9106/9106 [==============================] - 290s 32ms/step - loss: -3.3996 - accuracy: 0.8914 - val_loss: -3.4336 - val_accuracy: 0.8906\n",
      "Epoch 7/20\n",
      "9106/9106 [==============================] - 293s 32ms/step - loss: -3.6031 - accuracy: 0.8914 - val_loss: -3.6441 - val_accuracy: 0.8906\n",
      "Epoch 8/20\n",
      "9106/9106 [==============================] - 292s 32ms/step - loss: -3.8034 - accuracy: 0.8914 - val_loss: -3.8118 - val_accuracy: 0.8906\n",
      "Epoch 9/20\n",
      "9106/9106 [==============================] - 294s 32ms/step - loss: -3.9731 - accuracy: 0.8914 - val_loss: -3.9843 - val_accuracy: 0.8906\n",
      "Epoch 10/20\n",
      "9106/9106 [==============================] - 295s 32ms/step - loss: -4.1544 - accuracy: 0.8914 - val_loss: -4.1549 - val_accuracy: 0.8906\n",
      "Epoch 11/20\n",
      "9106/9106 [==============================] - 290s 32ms/step - loss: -4.3615 - accuracy: 0.8914 - val_loss: -4.3318 - val_accuracy: 0.8906\n",
      "Epoch 12/20\n",
      "9106/9106 [==============================] - 291s 32ms/step - loss: -4.5262 - accuracy: 0.8914 - val_loss: -4.5089 - val_accuracy: 0.8906\n",
      "Epoch 13/20\n",
      "9106/9106 [==============================] - 289s 32ms/step - loss: -4.6993 - accuracy: 0.8914 - val_loss: -4.6752 - val_accuracy: 0.8906\n",
      "Epoch 14/20\n",
      "9106/9106 [==============================] - 291s 32ms/step - loss: -4.8728 - accuracy: 0.8914 - val_loss: -4.8596 - val_accuracy: 0.8906\n",
      "Epoch 15/20\n",
      "9106/9106 [==============================] - 287s 31ms/step - loss: -5.0223 - accuracy: 0.8914 - val_loss: -5.0366 - val_accuracy: 0.8906\n",
      "Epoch 16/20\n",
      "9106/9106 [==============================] - 289s 32ms/step - loss: -5.2397 - accuracy: 0.8914 - val_loss: -5.2114 - val_accuracy: 0.8906\n",
      "Epoch 17/20\n",
      "9106/9106 [==============================] - 287s 32ms/step - loss: -5.3981 - accuracy: 0.8914 - val_loss: -5.3843 - val_accuracy: 0.8906\n",
      "Epoch 18/20\n",
      "9106/9106 [==============================] - 289s 32ms/step - loss: -5.6045 - accuracy: 0.8914 - val_loss: -5.5588 - val_accuracy: 0.8906\n",
      "Epoch 19/20\n",
      "9106/9106 [==============================] - 288s 32ms/step - loss: -5.9336 - accuracy: 0.8914 - val_loss: -5.9008 - val_accuracy: 0.8906\n"
     ]
    },
    {
     "data": {
      "text/plain": [
       "<keras.callbacks.callbacks.History at 0x7f95756a68d0>"
      ]
     },
     "execution_count": 90,
     "metadata": {
      "tags": []
     },
     "output_type": "execute_result"
    }
   ],
   "source": [
    "max_words = 1500\n",
    "embedding_size = 100\n",
    "model6 = Sequential()\n",
    "model6.add(Embedding(vocabulary_size, embedding_size, input_length=max_words))\n",
    "model6.add(LSTM(100))\n",
    "model6.add(Dropout(0.3))\n",
    "model6.add(Dense(1, activation='sigmoid'))\n",
    "model6.compile(loss='binary_crossentropy', optimizer='RMSprop', metrics=['accuracy'])\n",
    "model6.fit(X_train,y_train,validation_data=(X_test,y_test),batch_size=1000,epochs=20)"
   ]
  },
  {
   "cell_type": "code",
   "execution_count": 91,
   "metadata": {
    "colab": {
     "base_uri": "https://localhost:8080/",
     "height": 294
    },
    "colab_type": "code",
    "id": "q50Sp5jYiFUe",
    "outputId": "e9efd28b-0f43-4191-9697-fbcd88e97495"
   },
   "outputs": [
    {
     "data": {
      "image/png": "[encoded data removed]",
      "text/plain": [
       "<Figure size 432x288 with 1 Axes>"
      ]
     },
     "metadata": {
      "needs_background": "light",
      "tags": []
     },
     "output_type": "display_data"
    }
   ],
   "source": [
    "plt.plot(model6.history.history['accuracy'])\n",
    "plt.plot(model6.history.history['val_accuracy'])\n",
    "plt.title('model accuracy')\n",
    "plt.ylabel('accuracy')\n",
    "plt.xlabel('epoch')\n",
    "plt.legend(['train', 'test'], loc='upper left')\n",
    "plt.show()"
   ]
  },
  {
   "cell_type": "code",
   "execution_count": 92,
   "metadata": {
    "colab": {
     "base_uri": "https://localhost:8080/",
     "height": 294
    },
    "colab_type": "code",
    "id": "64ZIrvwi4Z-7",
    "outputId": "0b47efb6-6eb1-4491-f6d6-1bdf7731c8fa"
   },
   "outputs": [
    {
     "data": {
      "image/png": "[encoded data removed]",
      "text/plain": [
       "<Figure size 432x288 with 1 Axes>"
      ]
     },
     "metadata": {
      "needs_background": "light",
      "tags": []
     },
     "output_type": "display_data"
    }
   ],
   "source": [
    "plt.plot(model6.history.history['loss'])\n",
    "plt.plot(model6.history.history['val_loss'])\n",
    "plt.title('model loss')\n",
    "plt.ylabel('loss')\n",
    "plt.xlabel('epoch')\n",
    "plt.legend(['train', 'test'], loc='upper left')\n",
    "plt.show()"
   ]
  },
  {
   "cell_type": "code",
   "execution_count": 0,
   "metadata": {
    "colab": {},
    "colab_type": "code",
    "id": "xZMK0f9n4d7Q"
   },
   "outputs": [],
   "source": [
    "file=pd.read_csv('Article_Data.txt',sep='\\t')\n",
    "data=file[['Article Abstract','Impact Factor']]\n",
    "data_filtered = data.dropna(how='any')\n",
    "data_filtered.columns=['abs','fac']\n",
    "data_filtered=data_filtered.drop_duplicates(subset=\"abs\")\n",
    "data_filtered['result'] = data_filtered['abs'].str.replace(r'(formula: see text)','')\n",
    "df = data_filtered[data_filtered['result'].apply(lambda x: len(x.split(' ')) > 25)]\n",
    "final=df[['result','fac']]\n",
    "final.columns=['abs','fac']\n",
    "final_new = final[final.fac > 0]\n",
    "X, y = (final_new['abs'].values, final_new['fac'].values)\n",
    "text = [word for word in X if word not in string.ascii_letters]\n",
    "tk = Tokenizer(lower = True)\n",
    "tk.fit_on_texts(X)\n",
    "X_seq = tk.texts_to_sequences(X)\n",
    "X_pad = pad_sequences(X_seq, maxlen=1000, padding='post')\n",
    "X_pad.shape\n",
    "X_train, X_test, y_train, y_test = train_test_split(X_pad, y, test_size = 0.25, random_state = 1)\n",
    "vocabulary_size = len(tk.word_counts.keys())+1"
   ]
  },
  {
   "cell_type": "code",
   "execution_count": 8,
   "metadata": {
    "colab": {
     "base_uri": "https://localhost:8080/",
     "height": 818
    },
    "colab_type": "code",
    "id": "PjeWShTR2C2Y",
    "outputId": "1f35a002-4a79-42ee-a82a-14e1af5783de"
   },
   "outputs": [
    {
     "name": "stderr",
     "output_type": "stream",
     "text": [
      "/usr/local/lib/python3.6/dist-packages/tensorflow/python/framework/indexed_slices.py:434: UserWarning: Converting sparse IndexedSlices to a dense Tensor of unknown shape. This may consume a large amount of memory.\n",
      "  \"Converting sparse IndexedSlices to a dense Tensor of unknown shape. \"\n"
     ]
    },
    {
     "name": "stdout",
     "output_type": "stream",
     "text": [
      "Train on 9106 samples, validate on 3036 samples\n",
      "Epoch 1/20\n",
      "9106/9106 [==============================] - 217s 24ms/step - loss: -0.5849 - accuracy: 0.8579 - val_loss: -1.7489 - val_accuracy: 0.8906\n",
      "Epoch 2/20\n",
      "9106/9106 [==============================] - 208s 23ms/step - loss: -2.0343 - accuracy: 0.8914 - val_loss: -2.2621 - val_accuracy: 0.8906\n",
      "Epoch 3/20\n",
      "9106/9106 [==============================] - 213s 23ms/step - loss: -2.4452 - accuracy: 0.8914 - val_loss: -2.5438 - val_accuracy: 0.8906\n",
      "Epoch 4/20\n",
      "9106/9106 [==============================] - 210s 23ms/step - loss: -2.7014 - accuracy: 0.8914 - val_loss: -2.7734 - val_accuracy: 0.8906\n",
      "Epoch 5/20\n",
      "9106/9106 [==============================] - 209s 23ms/step - loss: -2.9144 - accuracy: 0.8914 - val_loss: -2.9909 - val_accuracy: 0.8906\n",
      "Epoch 6/20\n",
      "9106/9106 [==============================] - 211s 23ms/step - loss: -3.1398 - accuracy: 0.8914 - val_loss: -3.1956 - val_accuracy: 0.8906\n",
      "Epoch 7/20\n",
      "9106/9106 [==============================] - 210s 23ms/step - loss: -3.3704 - accuracy: 0.8914 - val_loss: -3.3894 - val_accuracy: 0.8906\n",
      "Epoch 8/20\n",
      "9106/9106 [==============================] - 211s 23ms/step - loss: -3.5590 - accuracy: 0.8914 - val_loss: -3.5808 - val_accuracy: 0.8906\n",
      "Epoch 9/20\n",
      "9106/9106 [==============================] - 212s 23ms/step - loss: -3.7231 - accuracy: 0.8914 - val_loss: -3.7496 - val_accuracy: 0.8906\n",
      "Epoch 10/20\n",
      "9106/9106 [==============================] - 208s 23ms/step - loss: -3.9037 - accuracy: 0.8914 - val_loss: -3.9179 - val_accuracy: 0.8906\n",
      "Epoch 11/20\n",
      "9106/9106 [==============================] - 208s 23ms/step - loss: -4.0844 - accuracy: 0.8914 - val_loss: -4.0901 - val_accuracy: 0.8906\n",
      "Epoch 12/20\n",
      "9106/9106 [==============================] - 213s 23ms/step - loss: -4.2510 - accuracy: 0.8914 - val_loss: -4.2609 - val_accuracy: 0.8906\n",
      "Epoch 13/20\n",
      "9106/9106 [==============================] - 210s 23ms/step - loss: -4.4318 - accuracy: 0.8914 - val_loss: -4.4291 - val_accuracy: 0.8906\n",
      "Epoch 14/20\n",
      "9106/9106 [==============================] - 212s 23ms/step - loss: -4.6271 - accuracy: 0.8914 - val_loss: -4.6069 - val_accuracy: 0.8906\n",
      "Epoch 15/20\n",
      "9106/9106 [==============================] - 210s 23ms/step - loss: -4.7983 - accuracy: 0.8914 - val_loss: -4.7829 - val_accuracy: 0.8906\n",
      "Epoch 16/20\n",
      "9106/9106 [==============================] - 204s 22ms/step - loss: -4.9851 - accuracy: 0.8914 - val_loss: -4.9514 - val_accuracy: 0.8906\n",
      "Epoch 17/20\n",
      "9106/9106 [==============================] - 204s 22ms/step - loss: -5.1220 - accuracy: 0.8914 - val_loss: -5.1184 - val_accuracy: 0.8906\n",
      "Epoch 18/20\n",
      "9106/9106 [==============================] - 207s 23ms/step - loss: -5.3229 - accuracy: 0.8914 - val_loss: -5.2938 - val_accuracy: 0.8906\n",
      "Epoch 19/20\n",
      "9106/9106 [==============================] - 201s 22ms/step - loss: -5.4999 - accuracy: 0.8914 - val_loss: -5.4621 - val_accuracy: 0.8906\n",
      "Epoch 20/20\n",
      "9106/9106 [==============================] - 203s 22ms/step - loss: -5.6660 - accuracy: 0.8914 - val_loss: -5.6343 - val_accuracy: 0.8906\n"
     ]
    },
    {
     "data": {
      "text/plain": [
       "<keras.callbacks.callbacks.History at 0x7fe0af04ba20>"
      ]
     },
     "execution_count": 8,
     "metadata": {
      "tags": []
     },
     "output_type": "execute_result"
    }
   ],
   "source": [
    "max_words = 1000\n",
    "embedding_size = 100\n",
    "model6 = Sequential()\n",
    "model6.add(Embedding(vocabulary_size, embedding_size, input_length=max_words))\n",
    "model6.add(LSTM(100))\n",
    "model6.add(Dropout(0.3))\n",
    "model6.add(Dense(1, activation='sigmoid'))\n",
    "model6.compile(loss='binary_crossentropy', optimizer='RMSprop', metrics=['accuracy'])\n",
    "model6.fit(X_train,y_train,validation_data=(X_test,y_test),batch_size=1000,epochs=20)"
   ]
  },
  {
   "cell_type": "code",
   "execution_count": 0,
   "metadata": {
    "colab": {},
    "colab_type": "code",
    "id": "EZrOpbDw2H9f"
   },
   "outputs": [],
   "source": [
    "trainPredict = model6.predict(X_train)\n",
    "testPredict = model6.predict(X_test)"
   ]
  },
  {
   "cell_type": "code",
   "execution_count": 0,
   "metadata": {
    "colab": {},
    "colab_type": "code",
    "id": "KekXih_7IsP4"
   },
   "outputs": [],
   "source": [
    "from math import sqrt"
   ]
  },
  {
   "cell_type": "code",
   "execution_count": 28,
   "metadata": {
    "colab": {
     "base_uri": "https://localhost:8080/",
     "height": 34
    },
    "colab_type": "code",
    "id": "LX8EMXWUHgeu",
    "outputId": "882f14ac-0362-499f-b0b2-43b9179ac377"
   },
   "outputs": [
    {
     "name": "stdout",
     "output_type": "stream",
     "text": [
      "RMSE: 0.699\n"
     ]
    }
   ],
   "source": [
    "from sklearn.metrics import mean_squared_error\n",
    "rmse = sqrt(mean_squared_error(y_test, testPredict))\n",
    "print('RMSE: %.3f' % rmse)"
   ]
  },
  {
   "cell_type": "code",
   "execution_count": 27,
   "metadata": {
    "colab": {
     "base_uri": "https://localhost:8080/",
     "height": 141
    },
    "colab_type": "code",
    "id": "13dvz5CeIpns",
    "outputId": "4cedadd3-2b4a-4f82-84fd-9fc713f1fcda"
   },
   "outputs": [
    {
     "data": {
      "text/plain": [
       "array([[1.],\n",
       "       [1.],\n",
       "       [1.],\n",
       "       ...,\n",
       "       [1.],\n",
       "       [1.],\n",
       "       [1.]], dtype=float32)"
      ]
     },
     "execution_count": 27,
     "metadata": {
      "tags": []
     },
     "output_type": "execute_result"
    }
   ],
   "source": [
    "testPredict"
   ]
  },
  {
   "cell_type": "code",
   "execution_count": 29,
   "metadata": {
    "colab": {
     "base_uri": "https://localhost:8080/",
     "height": 52
    },
    "colab_type": "code",
    "id": "cdyV2eSUIw8L",
    "outputId": "fbae631c-c87f-4065-b34e-3eb6eff49db8"
   },
   "outputs": [
    {
     "name": "stdout",
     "output_type": "stream",
     "text": [
      "9106/9106 [==============================] - 54s 6ms/step\n",
      "3036/3036 [==============================] - 18s 6ms/step\n"
     ]
    }
   ],
   "source": [
    "train_acc1 = model6.evaluate(X_train, y_train)\n",
    "test_acc1 = model6.evaluate(X_test, y_test)"
   ]
  },
  {
   "cell_type": "code",
   "execution_count": 30,
   "metadata": {
    "colab": {
     "base_uri": "https://localhost:8080/",
     "height": 34
    },
    "colab_type": "code",
    "id": "F0P7cMNoJkeq",
    "outputId": "6813661a-7a6a-4402-e4aa-e3137913a9f3"
   },
   "outputs": [
    {
     "name": "stdout",
     "output_type": "stream",
     "text": [
      "RMSE: 0.699\n"
     ]
    }
   ],
   "source": [
    "rmse_train = sqrt(mean_squared_error(y_train, trainPredict))\n",
    "print('RMSE: %.3f' % rmse)"
   ]
  },
  {
   "cell_type": "code",
   "execution_count": 31,
   "metadata": {
    "colab": {
     "base_uri": "https://localhost:8080/",
     "height": 34
    },
    "colab_type": "code",
    "id": "j1RD7XwtJ6bS",
    "outputId": "a7ff2195-075b-4879-835a-e846956b792c"
   },
   "outputs": [
    {
     "data": {
      "text/plain": [
       "[-5.634344868666256, 0.8906455636024475]"
      ]
     },
     "execution_count": 31,
     "metadata": {
      "tags": []
     },
     "output_type": "execute_result"
    }
   ],
   "source": [
    "test_acc1"
   ]
  },
  {
   "cell_type": "code",
   "execution_count": 32,
   "metadata": {
    "colab": {
     "base_uri": "https://localhost:8080/",
     "height": 34
    },
    "colab_type": "code",
    "id": "ukV4aIItJ8_V",
    "outputId": "b93a671f-9a8d-4fa8-d0db-22297d31c3d1"
   },
   "outputs": [
    {
     "data": {
      "text/plain": [
       "[-5.776830911793448, 0.8913902640342712]"
      ]
     },
     "execution_count": 32,
     "metadata": {
      "tags": []
     },
     "output_type": "execute_result"
    }
   ],
   "source": [
    "train_acc1"
   ]
  },
  {
   "cell_type": "code",
   "execution_count": 0,
   "metadata": {
    "colab": {},
    "colab_type": "code",
    "id": "yoBXs8iKJ9z3"
   },
   "outputs": [],
   "source": [
    "file=pd.read_csv('Article_Data.txt',sep='\\t')\n",
    "data=file[['Article Abstract','Impact Factor']]\n",
    "data_filtered = data.dropna(how='any')\n",
    "data_filtered.columns=['abs','fac']\n",
    "data_filtered=data_filtered.drop_duplicates(subset=\"abs\")\n",
    "data_filtered['result'] = data_filtered['abs'].str.replace(r'(formula: see text)','')\n",
    "df = data_filtered[data_filtered['result'].apply(lambda x: len(x.split(' ')) > 25)]\n",
    "final=df[['result','fac']]\n",
    "final.columns=['abs','fac']\n",
    "final_new = final[final.fac > 0]\n",
    "X, y = (final_new['abs'].values, final_new['fac'].values)\n",
    "text = [word for word in X if word not in string.ascii_letters]\n",
    "tk = Tokenizer(lower = True)\n",
    "tk.fit_on_texts(X)\n",
    "X_seq = tk.texts_to_sequences(X)\n",
    "X_pad = pad_sequences(X_seq, maxlen=1500, padding='post')\n",
    "X_pad.shape\n",
    "X_train, X_test, y_train, y_test = train_test_split(X_pad, y, test_size = 0.15, random_state = 1)\n",
    "vocabulary_size = len(tk.word_counts.keys())+1"
   ]
  },
  {
   "cell_type": "code",
   "execution_count": 36,
   "metadata": {
    "colab": {
     "base_uri": "https://localhost:8080/",
     "height": 818
    },
    "colab_type": "code",
    "id": "5fEVQvBGKM6l",
    "outputId": "76109ac7-0b77-496b-d2ea-c4624c4ad278"
   },
   "outputs": [
    {
     "name": "stderr",
     "output_type": "stream",
     "text": [
      "/usr/local/lib/python3.6/dist-packages/tensorflow/python/framework/indexed_slices.py:434: UserWarning: Converting sparse IndexedSlices to a dense Tensor of unknown shape. This may consume a large amount of memory.\n",
      "  \"Converting sparse IndexedSlices to a dense Tensor of unknown shape. \"\n"
     ]
    },
    {
     "name": "stdout",
     "output_type": "stream",
     "text": [
      "Train on 10320 samples, validate on 1822 samples\n",
      "Epoch 1/20\n",
      "10320/10320 [==============================] - 349s 34ms/step - loss: -0.6953 - accuracy: 0.8328 - val_loss: -1.8096 - val_accuracy: 0.8930\n",
      "Epoch 2/20\n",
      "10320/10320 [==============================] - 337s 33ms/step - loss: -2.0790 - accuracy: 0.8909 - val_loss: -2.3899 - val_accuracy: 0.8930\n",
      "Epoch 3/20\n",
      "10320/10320 [==============================] - 340s 33ms/step - loss: -2.5316 - accuracy: 0.8909 - val_loss: -2.7140 - val_accuracy: 0.8930\n",
      "Epoch 4/20\n",
      "10320/10320 [==============================] - 337s 33ms/step - loss: -2.8234 - accuracy: 0.8909 - val_loss: -2.9691 - val_accuracy: 0.8930\n",
      "Epoch 5/20\n",
      "10320/10320 [==============================] - 338s 33ms/step - loss: -3.0832 - accuracy: 0.8909 - val_loss: -3.1992 - val_accuracy: 0.8930\n",
      "Epoch 6/20\n",
      "10320/10320 [==============================] - 332s 32ms/step - loss: -3.2922 - accuracy: 0.8909 - val_loss: -3.4167 - val_accuracy: 0.8930\n",
      "Epoch 7/20\n",
      "10320/10320 [==============================] - 337s 33ms/step - loss: -3.5042 - accuracy: 0.8909 - val_loss: -3.6188 - val_accuracy: 0.8930\n",
      "Epoch 8/20\n",
      "10320/10320 [==============================] - 338s 33ms/step - loss: -3.7114 - accuracy: 0.8909 - val_loss: -3.8244 - val_accuracy: 0.8930\n",
      "Epoch 9/20\n",
      "10320/10320 [==============================] - 335s 32ms/step - loss: -3.8972 - accuracy: 0.8909 - val_loss: -4.0134 - val_accuracy: 0.8930\n",
      "Epoch 10/20\n",
      "10320/10320 [==============================] - 336s 33ms/step - loss: -4.0902 - accuracy: 0.8909 - val_loss: -4.2046 - val_accuracy: 0.8930\n",
      "Epoch 11/20\n",
      "10320/10320 [==============================] - 331s 32ms/step - loss: -4.2821 - accuracy: 0.8909 - val_loss: -4.3971 - val_accuracy: 0.8930\n",
      "Epoch 12/20\n",
      "10320/10320 [==============================] - 334s 32ms/step - loss: -4.4805 - accuracy: 0.8909 - val_loss: -4.5886 - val_accuracy: 0.8930\n",
      "Epoch 13/20\n",
      "10320/10320 [==============================] - 334s 32ms/step - loss: -4.6521 - accuracy: 0.8909 - val_loss: -4.7857 - val_accuracy: 0.8930\n",
      "Epoch 14/20\n",
      "10320/10320 [==============================] - 338s 33ms/step - loss: -4.8322 - accuracy: 0.8909 - val_loss: -4.9856 - val_accuracy: 0.8930\n",
      "Epoch 15/20\n",
      "10320/10320 [==============================] - 334s 32ms/step - loss: -5.0601 - accuracy: 0.8909 - val_loss: -5.1918 - val_accuracy: 0.8930\n",
      "Epoch 16/20\n",
      "10320/10320 [==============================] - 337s 33ms/step - loss: -5.2575 - accuracy: 0.8909 - val_loss: -5.3872 - val_accuracy: 0.8930\n",
      "Epoch 17/20\n",
      "10320/10320 [==============================] - 338s 33ms/step - loss: -5.4681 - accuracy: 0.8909 - val_loss: -5.5760 - val_accuracy: 0.8930\n",
      "Epoch 18/20\n",
      "10320/10320 [==============================] - 339s 33ms/step - loss: -5.6784 - accuracy: 0.8909 - val_loss: -5.7742 - val_accuracy: 0.8930\n",
      "Epoch 19/20\n",
      "10320/10320 [==============================] - 338s 33ms/step - loss: -5.8365 - accuracy: 0.8909 - val_loss: -5.9677 - val_accuracy: 0.8930\n",
      "Epoch 20/20\n",
      "10320/10320 [==============================] - 336s 33ms/step - loss: -6.0110 - accuracy: 0.8909 - val_loss: -6.1635 - val_accuracy: 0.8930\n"
     ]
    },
    {
     "data": {
      "text/plain": [
       "<keras.callbacks.callbacks.History at 0x7fe0afc19da0>"
      ]
     },
     "execution_count": 36,
     "metadata": {
      "tags": []
     },
     "output_type": "execute_result"
    }
   ],
   "source": [
    "max_words = 1500\n",
    "embedding_size = 100\n",
    "model7 = Sequential()\n",
    "model7.add(Embedding(vocabulary_size, embedding_size, input_length=max_words))\n",
    "model7.add(LSTM(100))\n",
    "model7.add(Dropout(0.3))\n",
    "model7.add(Dense(1, activation='sigmoid'))\n",
    "model7.compile(loss='binary_crossentropy', optimizer='RMSprop', metrics=['accuracy'])\n",
    "model7.fit(X_train,y_train,validation_data=(X_test,y_test),batch_size=1000,epochs=20)"
   ]
  },
  {
   "cell_type": "code",
   "execution_count": 37,
   "metadata": {
    "colab": {
     "base_uri": "https://localhost:8080/",
     "height": 294
    },
    "colab_type": "code",
    "id": "3g69YLM5YXNR",
    "outputId": "7f123164-d38c-443a-8ada-659473d6a565"
   },
   "outputs": [
    {
     "data": {
      "image/png": "[encoded data removed]",
      "text/plain": [
       "<Figure size 432x288 with 1 Axes>"
      ]
     },
     "metadata": {
      "needs_background": "light",
      "tags": []
     },
     "output_type": "display_data"
    }
   ],
   "source": [
    "plt.plot(model7.history.history['accuracy'])\n",
    "plt.plot(model7.history.history['val_accuracy'])\n",
    "plt.title('model accuracy')\n",
    "plt.ylabel('accuracy')\n",
    "plt.xlabel('epoch')\n",
    "plt.legend(['train', 'test'], loc='upper left')\n",
    "plt.show()"
   ]
  },
  {
   "cell_type": "code",
   "execution_count": 38,
   "metadata": {
    "colab": {
     "base_uri": "https://localhost:8080/",
     "height": 294
    },
    "colab_type": "code",
    "id": "8Dkv1c2_loHO",
    "outputId": "a0e81ac3-8b7d-4581-a74a-da39bf81eb25"
   },
   "outputs": [
    {
     "data": {
      "image/png": "[encoded data removed]",
      "text/plain": [
       "<Figure size 432x288 with 1 Axes>"
      ]
     },
     "metadata": {
      "needs_background": "light",
      "tags": []
     },
     "output_type": "display_data"
    }
   ],
   "source": [
    "plt.plot(model7.history.history['loss'])\n",
    "plt.plot(model7.history.history['val_loss'])\n",
    "plt.title('model loss')\n",
    "plt.ylabel('loss')\n",
    "plt.xlabel('epoch')\n",
    "plt.legend(['train', 'test'], loc='upper left')\n",
    "plt.show()"
   ]
  },
  {
   "cell_type": "code",
   "execution_count": 0,
   "metadata": {
    "colab": {},
    "colab_type": "code",
    "id": "anv9Yw6AlyiV"
   },
   "outputs": [],
   "source": [
    "trainPredict = model7.predict(X_train)\n",
    "testPredict = model7.predict(X_test)"
   ]
  },
  {
   "cell_type": "code",
   "execution_count": 40,
   "metadata": {
    "colab": {
     "base_uri": "https://localhost:8080/",
     "height": 52
    },
    "colab_type": "code",
    "id": "ZITTdEnXmbV4",
    "outputId": "7f831d41-b75f-4105-cf8f-469ccba7aa5b"
   },
   "outputs": [
    {
     "name": "stdout",
     "output_type": "stream",
     "text": [
      "RMSE: 0.699\n",
      "RMSE: 0.699\n"
     ]
    }
   ],
   "source": [
    "rmse_train = sqrt(mean_squared_error(y_train, trainPredict))\n",
    "print('RMSE: %.3f' % rmse)\n",
    "rmse_test = sqrt(mean_squared_error(y_test, testPredict))\n",
    "print('RMSE: %.3f' % rmse)\n"
   ]
  },
  {
   "cell_type": "code",
   "execution_count": 0,
   "metadata": {
    "colab": {},
    "colab_type": "code",
    "id": "U6vElFUTm8mD"
   },
   "outputs": [],
   "source": []
  }
 ],
 "metadata": {
  "colab": {
   "collapsed_sections": [],
   "name": "Untitled1.ipynb",
   "provenance": []
  },
  "kernelspec": {
   "display_name": "Python 3",
   "language": "python",
   "name": "python3"
  },
  "language_info": {
   "codemirror_mode": {
    "name": "ipython",
    "version": 3
   },
   "file_extension": ".py",
   "mimetype": "text/x-python",
   "name": "python",
   "nbconvert_exporter": "python",
   "pygments_lexer": "ipython3",
   "version": "3.7.6"
  }
 },
 "nbformat": 4,
 "nbformat_minor": 1
}
